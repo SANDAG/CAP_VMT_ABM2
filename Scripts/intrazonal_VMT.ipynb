{
 "cells": [
  {
   "cell_type": "markdown",
   "metadata": {},
   "source": [
    "#Intrazonal Trips\n",
    "##Export Intrazonal Trips for each period alongside the Intazonal Distance for all TAZs\n"
   ]
  },
  {
   "cell_type": "code",
   "execution_count": null,
   "metadata": {
    "collapsed": true
   },
   "outputs": [],
   "source": [
    "from IPython.display import display\n",
    "import os\n",
    "import numpy as py\n",
    "import pandas as pd\n",
    "from functools import reduce\n",
    "my_modeller = inro.modeller.Modeller()\n",
    "emmebank = my_modeller.emmebank\n",
    "desktop = my_modeller.desktop\n",
    "\n",
    "#I/O \n",
    "main_directory = os.path.dirname(os.path.dirname(my_modeller.desktop.project.path)).replace(\"\\\\\",\"/\")\n",
    "import_path = os.path.join(main_directory, \"emme_project\\Database\").replace(\"\\\\\",\"/\")\n",
    "ouput_path = os.path.join(main_directory, \"output\").replace(\"\\\\\",\"/\")\n",
    "file_name_input = os.path.join(import_path, \"xref_taz13_jur.csv\")\n",
    "#file_name_input2 = os.path.join(import_path, \"SL_query.csv\")"
   ]
  },
  {
   "cell_type": "code",
   "execution_count": 23,
   "metadata": {
    "collapsed": false,
    "show_input": true
   },
   "outputs": [],
   "source": [
    "## Read Demand Matrices and aggreagted them in a single matrix(by TOD). Read the diagonal for intra trips\n",
    "## Read distance Skim. Read diagnoal for intra skim.\n",
    "## Summarize all in a single table for all TAZs\n",
    "\n",
    "z=emmebank.scenario(100).zone_numbers\n",
    "CR_data = pd.read_csv(file_name_input,sep=',')\n",
    "#query = pd.read_csv(file_name_input2,sep=',')\n",
    "\n",
    "#suffix = query['Query']\n",
    "periods = [\"EA\", \"AM\", \"MD\", \"PM\", \"EV\"]\n",
    "###import \n",
    "def Intrazonal_VMT ( period ) :\n",
    "    matrix_id_list = []\n",
    "    matrix_id_name = []\n",
    "    ##choose selected demand matrices from emmebank and add them to get the total demand\n",
    "    for matrix in emmebank.matrices():\n",
    "        if matrix.type == \"FULL\" and period in matrix.description and \"demand\" in matrix.description and \"Selected\" not in matrix.description  :\n",
    "            matrix_id_list.append(matrix.id)\n",
    "        if matrix.type == \"FULL\" and \"SOV MVOT GP distance\" in matrix.description and period in matrix.description  :\n",
    "            skim = emmebank.matrix( id = matrix.id).get_numpy_data()\n",
    "\n",
    "\n",
    "    mat_intra = []\n",
    "    for i in matrix_id_list :\n",
    "        mat_intra.append(emmebank.matrix(id=i).get_numpy_data().diagonal())\n",
    "    trip_intra = reduce(lambda x,y: x+y,  mat_intra)\n",
    "\n",
    "\n",
    "\n",
    "    result = pd.DataFrame( { period: trip_intra , 'TAZ':z} )\n",
    "    return result\n",
    "\n",
    "for matrix in emmebank.matrices():\n",
    "\n",
    "    if matrix.type == \"FULL\" and \"SOV MVOT GP distance\" in matrix.description and \"AM\" in matrix.description  :\n",
    "        skim = emmebank.matrix( id = matrix.id).get_numpy_data()\n",
    "        skim_intra = pd.DataFrame({ \"Intra Distance\": skim.diagonal() , 'TAZ':z}) \n",
    "        \n",
    "temp = reduce(lambda x,y: pd.merge(x,y, on=\"TAZ\" , how=\"left\"), [skim_intra,Intrazonal_VMT(\"EA\"),Intrazonal_VMT(\"AM\"),Intrazonal_VMT(\"MD\"),Intrazonal_VMT(\"PM\"),Intrazonal_VMT(\"EV\")] )\n",
    "temp = temp[['TAZ', \"Intra Distance\", 'EA', 'AM', 'MD', 'PM', 'EV']]\n",
    "temp[\"Intra Trips\"] = temp[['EA', 'AM', 'MD', 'PM', 'EV']].sum(axis=1)\n",
    "file_name_output = \"Intrazonal_VMT.csv\" \n",
    "dir_output = os.path.join(ouput_path, file_name_output)\n",
    "temp.to_csv(dir_output, index= False)"
   ]
  },
  {
   "cell_type": "code",
   "execution_count": null,
   "metadata": {
    "collapsed": true,
    "show_input": true
   },
   "outputs": [],
   "source": []
  }
 ],
 "metadata": {
  "kernelspec": {
   "display_name": "Python 2",
   "language": "python",
   "name": "python2"
  },
  "language_info": {
   "codemirror_mode": {
    "name": "ipython",
    "version": 2
   },
   "file_extension": ".py",
   "mimetype": "text/x-python",
   "name": "python",
   "nbconvert_exporter": "python",
   "pygments_lexer": "ipython2",
   "version": "2.7.14"
  }
 },
 "nbformat": 4,
 "nbformat_minor": 0
}
