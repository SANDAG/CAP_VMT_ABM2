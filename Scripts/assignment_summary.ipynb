{
 "cells": [
  {
   "cell_type": "markdown",
   "metadata": {},
   "source": [
    "#Summarize Assignment results \n",
    "##Exports the required summary from assigend network for different periods"
   ]
  },
  {
   "cell_type": "code",
   "execution_count": 5,
   "metadata": {
    "collapsed": false,
    "show_input": true
   },
   "outputs": [],
   "source": [
    "my_modeller = inro.modeller.Modeller()\n",
    "from IPython.display import display\n",
    "import os\n",
    "import numpy as py\n",
    "import pandas as pd\n",
    "import inro.emme.database.emmebank as _eb\n",
    "\n",
    "main_directory = os.path.dirname(os.path.dirname(my_modeller.desktop.project.path))\n",
    "main_emmebank = _eb.Emmebank(os.path.join(main_directory, \"emme_project\", \"Database\", \"emmebank\"))\n",
    "transit_emmebank = _eb.Emmebank(os.path.join(main_directory, \"emme_project\", \"Database_transit\", \"emmebank\"))\n",
    "num_processors = \"MAX-1\"\n",
    "export_data_loader_network = my_modeller.tool(\n",
    "    \"sandag.export.export_data_loader_network\")\n",
    "export_data_loader_network(main_directory, 100, main_emmebank, transit_emmebank, num_processors)\n",
    "\n",
    "#I/O \n",
    "main_directory = os.path.dirname(os.path.dirname(my_modeller.desktop.project.path)).replace(\"\\\\\",\"/\")\n",
    "import_path = os.path.join(main_directory, \"report\").replace(\"\\\\\",\"/\")\n",
    "ouput_path = os.path.join(main_directory, \"output\").replace(\"\\\\\",\"/\")\n",
    "periods = [\"EA\", \"AM\", \"MD\", \"PM\", \"EV\"]\n",
    "\n",
    "for p in periods:\n",
    "    file_name_input = os.path.join(import_path, (\"hwyload_\" + p + \".csv\"))\n",
    "    file_name_output = os.path.join(ouput_path, (\"hwyload_\" + p + \".csv\"))\n",
    "\n",
    "    data = pd.read_csv(file_name_input,sep=',')\n",
    "    data = data.assign(AB_VMT = lambda x: x.AB_V_Dist_T * x.AB_Flow,\n",
    "                       BA_VMT = lambda x: x.BA_V_Dist_T * x.BA_Flow,\n",
    "                       Total_Flow = lambda x: x.AB_Flow + x.BA_Flow )\n",
    "    data = data [['ID1' , 'AB_Time', 'BA_Time', 'AB_VMT', 'BA_VMT', 'AB_VHT', 'BA_VHT', 'AB_Speed', 'BA_Speed',\n",
    "                     'AB_Flow', 'BA_Flow', 'Total_Flow']]\n",
    "    data.to_csv(file_name_output, header = False, index= False)                \n",
    "\n"
   ]
  }
 ],
 "metadata": {
  "kernelspec": {
   "display_name": "Python 2",
   "language": "python",
   "name": "python2"
  },
  "language_info": {
   "codemirror_mode": {
    "name": "ipython",
    "version": 2
   },
   "file_extension": ".py",
   "mimetype": "text/x-python",
   "name": "python",
   "nbconvert_exporter": "python",
   "pygments_lexer": "ipython2",
   "version": "2.7.14"
  }
 },
 "nbformat": 4,
 "nbformat_minor": 0
}
