{
 "cells": [
  {
   "cell_type": "code",
   "execution_count": 1,
   "metadata": {
    "collapsed": false,
    "show_input": true
   },
   "outputs": [],
   "source": [
    "modeller = inro.modeller.Modeller()\n",
    "emmebank = modeller.emmebank\n",
    "delete_matrix = modeller.tool(\"inro.emme.data.matrix.delete_matrix\")\n",
    "import os\n",
    "import pandas as pd\n",
    "from IPython.display import display\n",
    "\n",
    "#I/O\n",
    "main_directory = os.path.dirname(os.path.dirname(modeller.desktop.project.path)).replace(\"\\\\\",\"/\")\n",
    "import_path = os.path.join(main_directory, \"emme_project\\Database\").replace(\"\\\\\",\"/\")\n",
    "file_name_input = os.path.join(import_path, \"suffixes.csv\")\n",
    "\n",
    "\n",
    "suffixes = pd.read_csv(file_name_input,sep=',')\n",
    "\n",
    "suffixes = suffixes['Suffixes']\n",
    "#print(suffixes)"
   ]
  },
  {
   "cell_type": "code",
   "execution_count": 13,
   "metadata": {
    "collapsed": false,
    "show_input": true
   },
   "outputs": [
    {
     "ename": "ArgumentNotSpecifiedError",
     "evalue": "matrix not specified.",
     "output_type": "error",
     "traceback": [
      "\u001b[1;31m---------------------------------------------------------------------------\u001b[0m",
      "\u001b[1;31mArgumentNotSpecifiedError\u001b[0m                 Traceback (most recent call last)",
      "\u001b[1;32m<ipython-input-13-c2507951478e>\u001b[0m in \u001b[0;36m<module>\u001b[1;34m()\u001b[0m\n\u001b[0;32m      2\u001b[0m     \u001b[0mmatrix_index\u001b[0m \u001b[1;33m=\u001b[0m \u001b[1;34m\"mf\"\u001b[0m\u001b[1;33m+\u001b[0m\u001b[0mstr\u001b[0m\u001b[1;33m(\u001b[0m\u001b[0mindex\u001b[0m\u001b[1;33m)\u001b[0m\u001b[1;33m\u001b[0m\u001b[0m\n\u001b[0;32m      3\u001b[0m     \u001b[0mmatrix_mf\u001b[0m \u001b[1;33m=\u001b[0m \u001b[0memmebank\u001b[0m\u001b[1;33m.\u001b[0m\u001b[0mmatrix\u001b[0m\u001b[1;33m(\u001b[0m\u001b[0mmatrix_index\u001b[0m\u001b[1;33m)\u001b[0m\u001b[1;33m\u001b[0m\u001b[0m\n\u001b[1;32m----> 4\u001b[1;33m     \u001b[0mdelete_matrix\u001b[0m\u001b[1;33m(\u001b[0m\u001b[0mmatrix\u001b[0m\u001b[1;33m=\u001b[0m\u001b[0mmatrix_mf\u001b[0m\u001b[1;33m)\u001b[0m\u001b[1;33m\u001b[0m\u001b[0m\n\u001b[0m\u001b[0;32m      5\u001b[0m \u001b[1;33m\u001b[0m\u001b[0m\n\u001b[0;32m      6\u001b[0m \u001b[1;32mfor\u001b[0m \u001b[0mindex\u001b[0m \u001b[1;32min\u001b[0m \u001b[0mrange\u001b[0m\u001b[1;33m(\u001b[0m\u001b[1;36m1001\u001b[0m\u001b[1;33m,\u001b[0m\u001b[1;36m1305\u001b[0m\u001b[1;33m)\u001b[0m\u001b[1;33m:\u001b[0m\u001b[1;33m\u001b[0m\u001b[0m\n",
      "\u001b[1;32mC:\\Program Files\\INRO\\Emme\\Emme 4\\Emme-4.3.7\\python-lib\\win64\\2.7\\modeller\\inro.director.logging\\inro\\director\\logging\\trail.pyc\u001b[0m in \u001b[0;36m__trace\u001b[1;34m(*args, **kwargs)\u001b[0m\n",
      "\u001b[1;32mC:/Users/arasha/AppData/Local/Temp/2/delete_matrix-d9757be1662111e9a1afd0946610ebbd.pyc\u001b[0m in \u001b[0;36m__call__\u001b[1;34m(self, matrix, emmebank)\u001b[0m\n",
      "\u001b[1;32mC:/Users/arasha/AppData/Local/Temp/2/validate-d9768d51662111e9ba47d0946610ebbd.pyc\u001b[0m in \u001b[0;36mmatrix\u001b[1;34m(self, value, emmebank, context, types, writable, nullable, **kwargs)\u001b[0m\n",
      "\u001b[1;32mC:/Users/arasha/AppData/Local/Temp/2/validate-d9768d51662111e9ba47d0946610ebbd.pyc\u001b[0m in \u001b[0;36m_validate_inro_obj\u001b[1;34m(self, value, cls_name, context, parent_obj, required_types, writable, nullable)\u001b[0m\n",
      "\u001b[1;32mC:/Users/arasha/AppData/Local/Temp/2/validate-d9768d51662111e9ba47d0946610ebbd.pyc\u001b[0m in \u001b[0;36m_value_is_empty\u001b[1;34m(self, value, context, nullable)\u001b[0m\n",
      "\u001b[1;31mArgumentNotSpecifiedError\u001b[0m: matrix not specified."
     ]
    }
   ],
   "source": [
    "#for index in range(930,1001):\n",
    "#    matrix_index = \"mf\"+str(index)\n",
    "#    matrix_mf = emmebank.matrix(matrix_index)\n",
    "#    delete_matrix(matrix=matrix_mf) \n",
    "    \n",
    "#for index in range(1001,1305):\n",
    "#    matrix_index = \"mf\"+str(index)\n",
    "#    matrix_mf = emmebank.matrix(matrix_index)\n",
    "#    delete_matrix(matrix=matrix_mf) \n",
    "\n",
    "#for index in range(1455,1561):\n",
    "#    matrix_index = \"mf\"+str(index)\n",
    "#    matrix_mf = emmebank.matrix(matrix_index)\n",
    "#    delete_matrix(matrix=matrix_mf) "
   ]
  },
  {
   "cell_type": "code",
   "execution_count": 3,
   "metadata": {
    "collapsed": false,
    "show_input": true
   },
   "outputs": [],
   "source": [
    "NAMESPACE = \"inro.emme.data.matrix.delete_matrix\"\n",
    "delete_matrix = modeller.tool(NAMESPACE)\n",
    "matrix_id_list = []\n",
    "matrix_id_name = []\n",
    "for s in suffixes: \n",
    "    s = str(s)\n",
    "    for matrix in emmebank.matrices():\n",
    "        if s in matrix.description  :\n",
    "            matrix_id_list.append(matrix.id)\n",
    "            \n",
    "for i in range(0, (len(matrix_id_list))):\n",
    "        delete_matrix(matrix_id_list[i])\n",
    "     \n",
    "\n"
   ]
  },
  {
   "cell_type": "code",
   "execution_count": null,
   "metadata": {
    "collapsed": true,
    "show_input": true
   },
   "outputs": [],
   "source": []
  }
 ],
 "metadata": {
  "kernelspec": {
   "display_name": "Python 2",
   "language": "python",
   "name": "python2"
  },
  "language_info": {
   "codemirror_mode": {
    "name": "ipython",
    "version": 2
   },
   "file_extension": ".py",
   "mimetype": "text/x-python",
   "name": "python",
   "nbconvert_exporter": "python",
   "pygments_lexer": "ipython2",
   "version": "2.7.14"
  }
 },
 "nbformat": 4,
 "nbformat_minor": 0
}
