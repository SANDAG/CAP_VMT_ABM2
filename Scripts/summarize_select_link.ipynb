{
 "cells": [
  {
   "cell_type": "markdown",
   "metadata": {
    "collapsed": true,
    "show_input": true
   },
   "source": [
    "##Example to sum select link flow results from all time periods to base scenario for export\n",
    "####Setup and create attribute to store total select link flows\n",
    "###Initial Script: Ziying Ouyang Feb 2019"
   ]
  },
  {
   "cell_type": "markdown",
   "metadata": {},
   "source": [
    "##Setup to save results for multiple analyses\n",
    "#####Same as the above steps, but re-arranged for multiple sequential calls, and optimized to only load the reference time period scenarios once."
   ]
  },
  {
   "cell_type": "code",
   "execution_count": 2,
   "metadata": {
    "collapsed": true,
    "show_input": true
   },
   "outputs": [],
   "source": [
    "import os\n",
    "import pandas as pd\n",
    "modeller = inro.modeller.Modeller()\n",
    "\n",
    "\n",
    "#I/O\n",
    "main_directory = os.path.dirname(os.path.dirname(modeller.desktop.project.path)).replace(\"\\\\\",\"/\")\n",
    "import_path = os.path.join(main_directory, \"emme_project\\Database\").replace(\"\\\\\",\"/\")\n",
    "file_name_input = os.path.join(import_path, \"Sl_query.csv\")\n",
    "\n",
    "\n",
    "suffixes = pd.read_csv(file_name_input,sep=',')\n",
    "\n",
    "suffixes = suffixes['Query']"
   ]
  },
  {
   "cell_type": "code",
   "execution_count": 3,
   "metadata": {
    "collapsed": false,
    "show_input": true
   },
   "outputs": [
    {
     "ename": "ArgumentError",
     "evalue": "Invalid extra attribute ID: @sel_delm ",
     "output_type": "error",
     "traceback": [
      "\u001b[1;31m---------------------------------------------------------------------------\u001b[0m",
      "\u001b[1;31mArgumentError\u001b[0m                             Traceback (most recent call last)",
      "\u001b[1;32m<ipython-input-3-93101a51f8ce>\u001b[0m in \u001b[0;36m<module>\u001b[1;34m()\u001b[0m\n\u001b[0;32m     55\u001b[0m \u001b[1;31m#suffixes = [\"enci\"]\u001b[0m\u001b[1;33m\u001b[0m\u001b[1;33m\u001b[0m\u001b[0m\n\u001b[0;32m     56\u001b[0m \u001b[1;32mfor\u001b[0m \u001b[0msuffix\u001b[0m \u001b[1;32min\u001b[0m \u001b[0msuffixes\u001b[0m\u001b[1;33m:\u001b[0m\u001b[1;33m\u001b[0m\u001b[0m\n\u001b[1;32m---> 57\u001b[1;33m     \u001b[0msummarize_select_link\u001b[0m\u001b[1;33m(\u001b[0m\u001b[0msuffix\u001b[0m\u001b[1;33m,\u001b[0m \u001b[0mbase_scenario\u001b[0m\u001b[1;33m,\u001b[0m \u001b[0mbase_network\u001b[0m\u001b[1;33m,\u001b[0m \u001b[0mref_networks\u001b[0m\u001b[1;33m)\u001b[0m\u001b[1;33m\u001b[0m\u001b[0m\n\u001b[0m\u001b[0;32m     58\u001b[0m \u001b[1;33m\u001b[0m\u001b[0m\n\u001b[0;32m     59\u001b[0m \u001b[1;33m\u001b[0m\u001b[0m\n",
      "\u001b[1;32m<ipython-input-3-93101a51f8ce>\u001b[0m in \u001b[0;36msummarize_select_link\u001b[1;34m(suffix, base_scenario, network, ref_networks)\u001b[0m\n\u001b[0;32m      4\u001b[0m     \u001b[1;32mif\u001b[0m \u001b[0mbase_scenario\u001b[0m\u001b[1;33m.\u001b[0m\u001b[0mextra_attribute\u001b[0m\u001b[1;33m(\u001b[0m\u001b[0mtotal_name\u001b[0m\u001b[1;33m)\u001b[0m\u001b[1;33m:\u001b[0m\u001b[1;33m\u001b[0m\u001b[0m\n\u001b[0;32m      5\u001b[0m         \u001b[0mbase_scenario\u001b[0m\u001b[1;33m.\u001b[0m\u001b[0mdelete_extra_attribute\u001b[0m\u001b[1;33m(\u001b[0m\u001b[0mtotal_name\u001b[0m\u001b[1;33m)\u001b[0m\u001b[1;33m\u001b[0m\u001b[0m\n\u001b[1;32m----> 6\u001b[1;33m     \u001b[0mflow_xatt\u001b[0m \u001b[1;33m=\u001b[0m \u001b[0mbase_scenario\u001b[0m\u001b[1;33m.\u001b[0m\u001b[0mcreate_extra_attribute\u001b[0m\u001b[1;33m(\u001b[0m\u001b[1;34m\"LINK\"\u001b[0m\u001b[1;33m,\u001b[0m \u001b[0mtotal_name\u001b[0m\u001b[1;33m)\u001b[0m\u001b[1;33m\u001b[0m\u001b[0m\n\u001b[0m\u001b[0;32m      7\u001b[0m     \u001b[0mflow_xatt\u001b[0m\u001b[1;33m.\u001b[0m\u001b[0mdescription\u001b[0m \u001b[1;33m=\u001b[0m \u001b[1;34m\"Total select flow for %s\"\u001b[0m \u001b[1;33m%\u001b[0m \u001b[0msuffix\u001b[0m\u001b[1;33m\u001b[0m\u001b[0m\n\u001b[0;32m      8\u001b[0m     \u001b[1;32mif\u001b[0m \u001b[0mtotal_name\u001b[0m \u001b[1;32min\u001b[0m \u001b[0mnetwork\u001b[0m\u001b[1;33m.\u001b[0m\u001b[0mattributes\u001b[0m\u001b[1;33m(\u001b[0m\u001b[1;34m\"LINK\"\u001b[0m\u001b[1;33m)\u001b[0m\u001b[1;33m:\u001b[0m\u001b[1;33m\u001b[0m\u001b[0m\n",
      "\u001b[1;32mC:\\Program Files\\INRO\\Emme\\Emme 4\\Emme-4.3.7\\python-lib\\win64\\2.7\\api\\inro\\emme\\database\\scenario.pyc\u001b[0m in \u001b[0;36mcreate_extra_attribute\u001b[1;34m(self, type, id, default_value)\u001b[0m\n",
      "\u001b[1;32mC:\\Program Files\\INRO\\Emme\\Emme 4\\Emme-4.3.7\\python-lib\\win64\\2.7\\api\\inro\\emme\\database\\scenario.pyc\u001b[0m in \u001b[0;36m_validate_xatt_id\u001b[1;34m(self, id, existing)\u001b[0m\n",
      "\u001b[1;31mArgumentError\u001b[0m: Invalid extra attribute ID: @sel_delm "
     ]
    }
   ],
   "source": [
    "#Iterate through the suffix results and summarize the flows    \n",
    "def summarize_select_link(suffix, base_scenario, network, ref_networks):\n",
    "    total_name = \"@sel_\" + suffix\n",
    "    if base_scenario.extra_attribute(total_name):\n",
    "        base_scenario.delete_extra_attribute(total_name)\n",
    "    flow_xatt = base_scenario.create_extra_attribute(\"LINK\", total_name)\n",
    "    flow_xatt.description = \"Total select flow for %s\" % suffix\n",
    "    if total_name in network.attributes(\"LINK\"):\n",
    "        network.delete_attribute(\"LINK\", total_name)\n",
    "    network.create_attribute(\"LINK\", total_name)      \n",
    "\n",
    "    \n",
    "    truck_classes = [\n",
    "        ('TRKHGP', 2.5), ('TRKHTOLL', 2.5),\n",
    "        ('TRKLGP', 1.3), ('TRKLTOLL', 1.3),\n",
    "        ('TRKMGP', 1.5), ('TRKMTOLL', 1.5),\n",
    "    ]\n",
    "    \n",
    "    auto_classes = [\n",
    "        'SOVGPL', 'SOVTOLLL', 'HOV2HOVL', 'HOV2TOLLL', 'HOV3HOVL', 'HOV3TOLLL',\n",
    "        'SOVGPM', 'SOVTOLLM', 'HOV2HOVM', 'HOV2TOLLM', 'HOV3HOVM', 'HOV3TOLLM',\n",
    "        'SOVGPH', 'SOVTOLLH', 'HOV2HOVH', 'HOV2TOLLH', 'HOV3HOVH', 'HOV3TOLLH',\n",
    "    ]\n",
    "\n",
    "    \n",
    "    auto_attrs = [\"@sl_\" + name.lower() + \"_\" + suffix\n",
    "                  for name in auto_classes]\n",
    "    truck_attrs = [(\"@sl_\" + name.lower() + \"_\" + suffix, pce)\n",
    "                   for name, pce in truck_classes]\n",
    "\n",
    "    for ref_network in ref_networks:\n",
    "        for link in base_network.links():\n",
    "            ref_link = ref_network.link(link.i_node, link.j_node)\n",
    "            flow = sum(ref_link[att] for att in auto_attrs)\n",
    "            flow += sum(ref_link[att] / pce for att, pce in truck_attrs)\n",
    "            link[total_name] += flow\n",
    "\n",
    "            \n",
    "            \n",
    "modeller = inro.modeller.Modeller()\n",
    "emmebank = modeller.emmebank\n",
    "scenario_id = 100\n",
    "\n",
    "base_scenario = emmebank.scenario(scenario_id)\n",
    "base_network = base_scenario.get_network()\n",
    "ref_networks = []\n",
    "periods = [\"EA\", \"AM\", \"MD\", \"PM\", \"EV\"]\n",
    "\n",
    "\n",
    "for number, period, in enumerate(periods, start=scenario_id + 1):\n",
    "    scenario = emmebank.scenario(number)\n",
    "    ref_networks.append(scenario.get_network())\n",
    "\n",
    "#suffixes = [\"dtwn\",\"uptn\",\"kmsa\",\"svly\"]\n",
    "#suffixes = [\"enci\"]\n",
    "for suffix in suffixes:\n",
    "    summarize_select_link(suffix, base_scenario, base_network, ref_networks)\n",
    "\n",
    "    \n",
    "base_scenario.publish_network(base_network)\n",
    "\n",
    "#network_to_shapefile = modeller.tool(\"inro.emme.data.network.export_network_as_shapefile\")\n",
    "#path = \"..\\\\..\\\\output\"\n",
    "#report = network_to_shapefile(\n",
    "#    export_path=path,\n",
    "#    scenario=base_scenario,\n",
    "#    selection = {\"node\": \"all\", \"link\": \"all\", \"turn\": \"none\", \"transit_line\": \"none\"})\n",
    "    \n"
   ]
  },
  {
   "cell_type": "code",
   "execution_count": null,
   "metadata": {
    "collapsed": true,
    "show_input": true
   },
   "outputs": [],
   "source": []
  }
 ],
 "metadata": {
  "kernelspec": {
   "display_name": "Python 2",
   "language": "python",
   "name": "python2"
  },
  "language_info": {
   "codemirror_mode": {
    "name": "ipython",
    "version": 2
   },
   "file_extension": ".py",
   "mimetype": "text/x-python",
   "name": "python",
   "nbconvert_exporter": "python",
   "pygments_lexer": "ipython2",
   "version": "2.7.14"
  }
 },
 "nbformat": 4,
 "nbformat_minor": 0
}
