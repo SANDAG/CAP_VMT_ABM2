{
 "cells": [
  {
   "cell_type": "markdown",
   "metadata": {
    "collapsed": true,
    "show_input": true
   },
   "source": [
    "# Set up database dimension for select link assignment\n",
    "\n",
    "##Initial Script: Ziying Ouyang Feb 2019"
   ]
  },
  {
   "cell_type": "code",
   "execution_count": 8,
   "metadata": {
    "collapsed": false
   },
   "outputs": [],
   "source": [
    "import os\n",
    "\n",
    "modeller = inro.modeller.Modeller()\n",
    "emmebank = modeller.emmebank\n",
    "change_db_dimension = modeller.tool(\"inro.emme.data.database.change_database_dimensions\")\n",
    "import_attr_values = modeller.tool(\"inro.emme.data.network.import_attribute_values\")\n",
    "create_attr = modeller.tool(\"inro.emme.data.extra_attribute.create_extra_attribute\")\n",
    "copy_attr = modeller.tool(\"inro.emme.data.network.copy_attribute\")\n",
    "\n"
   ]
  },
  {
   "cell_type": "code",
   "execution_count": 2,
   "metadata": {
    "collapsed": true,
    "show_input": true
   },
   "outputs": [],
   "source": [
    "# the CSV file is in emme_project/database\n",
    "# with two columns: zone_id, group_id (tier 1 employment centers) \n",
    "scenario = emmebank.scenario(101)\n",
    "create_attr(\"NODE\", \"@selected_zone\", \"jurisdiction\", overwrite=True, scenario=scenario)\n",
    "\n",
    "default_path = os.path.dirname(modeller.emmebank.path).replace(\"\\\\\",\"/\")\n",
    "file_path = os.path.join(default_path,\"xref_taz13_jur.csv\").replace(\"\\\\\",\"/\")\n",
    "import_attr_values(file_path,\n",
    "              field_separator = \",\",\n",
    "              scenario = scenario,\n",
    "              column_labels={0: \"inode\", \n",
    "                             1: \"@selected_zone\"},\n",
    "              revert_on_error=True)\n",
    "\n",
    "for scenario_id in range(102, 106):\n",
    "    time_scenario = emmebank.scenario(scenario_id)\n",
    "    create_attr(\"NODE\", \"@selected_zone\", \"jurisdiction\", overwrite=True, scenario=time_scenario)\n",
    "    copy_attr(from_attribute_name = \"@selected_zone\",\n",
    "              to_attribute_name = \"@selected_zone\", \n",
    "              from_scenario = scenario, \n",
    "              to_scenario = time_scenario)\n"
   ]
  },
  {
   "cell_type": "code",
   "execution_count": 10,
   "metadata": {
    "collapsed": false,
    "show_input": true
   },
   "outputs": [],
   "source": [
    "### based on number of selected regions in query set this number. 40000000 is the default for 4 regions\n",
    "required_dimensions = 40000000\n",
    "new_dimensions = emmebank.dimensions\n",
    "if new_dimensions[\"extra_attribute_values\"] < required_dimensions :\n",
    "    new_dimensions[\"extra_attribute_values\"] = required_dimensions\n",
    "    change_db_dimension(emmebank_dimensions=new_dimensions,\n",
    "              keep_backup=True)"
   ]
  }
 ],
 "metadata": {
  "kernelspec": {
   "display_name": "Python 2",
   "language": "python",
   "name": "python2"
  },
  "language_info": {
   "codemirror_mode": {
    "name": "ipython",
    "version": 2
   },
   "file_extension": ".py",
   "mimetype": "text/x-python",
   "name": "python",
   "nbconvert_exporter": "python",
   "pygments_lexer": "ipython2",
   "version": "2.7.14"
  }
 },
 "nbformat": 4,
 "nbformat_minor": 0
}
