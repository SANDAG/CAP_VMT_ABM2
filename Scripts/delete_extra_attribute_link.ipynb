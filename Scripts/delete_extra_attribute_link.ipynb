{
 "cells": [
  {
   "cell_type": "code",
   "execution_count": null,
   "metadata": {
    "collapsed": true,
    "show_input": true
   },
   "outputs": [],
   "source": [
    "#loop through TOD to delete extra select link fields"
   ]
  },
  {
   "cell_type": "code",
   "execution_count": 12,
   "metadata": {
    "collapsed": true,
    "show_input": true
   },
   "outputs": [],
   "source": [
    "modeller = inro.modeller.Modeller()\n",
    "emmebank = modeller.emmebank\n",
    "scenario_id = 100\n",
    "base_scenario = emmebank.scenario(scenario_id)\n",
    "periods = [\"EA\", \"AM\", \"MD\", \"PM\", \"EV\"]"
   ]
  },
  {
   "cell_type": "code",
   "execution_count": 14,
   "metadata": {
    "collapsed": false,
    "show_input": true
   },
   "outputs": [],
   "source": [
    "suffix = \"805\"\n",
    "auto_classes = [\n",
    "    'SOVGPL', 'SOVTOLLL', 'HOV2HOVL', 'HOV2TOLLL', 'HOV3HOVL', 'HOV3TOLLL',\n",
    "    'SOVGPM', 'SOVTOLLM', 'HOV2HOVM', 'HOV2TOLLM', 'HOV3HOVM', 'HOV3TOLLM',\n",
    "    'SOVGPH', 'SOVTOLLH', 'HOV2HOVH', 'HOV2TOLLH', 'HOV3HOVH', 'HOV3TOLLH',\n",
    "]\n",
    "\n",
    "truck_classes = [\n",
    "    'TRKHGP', 'TRKHTOLL',\n",
    "    'TRKLGP', 'TRKLTOLL', \n",
    "    'TRKMGP','TRKMTOLL',\n",
    "]\n",
    "auto_attrs = [\"@sl_\" + name.lower() + \"_\" + suffix\n",
    "              for name in auto_classes]\n",
    "\n",
    "truck_attrs = [\"@sl_\" + name.lower() + \"_\" + suffix\n",
    "                   for name in truck_classes]"
   ]
  },
  {
   "cell_type": "code",
   "execution_count": 16,
   "metadata": {
    "collapsed": false,
    "show_input": true
   },
   "outputs": [],
   "source": [
    "for number, period, in enumerate(periods, start=scenario_id + 1):\n",
    "    scenario = emmebank.scenario(number)    \n",
    "    for name in auto_attrs: \n",
    "        if scenario.extra_attribute(name):\n",
    "            scenario.delete_extra_attribute(name)            \n",
    "    for name in truck_attrs: \n",
    "        if scenario.extra_attribute(name):\n",
    "            scenario.delete_extra_attribute(name)\n",
    "            \n",
    "    if scenario.extra_attribute(\"@slink_805\"):\n",
    "        scenario.delete_extra_attribute(\"@slink_805\")         "
   ]
  },
  {
   "cell_type": "code",
   "execution_count": null,
   "metadata": {
    "collapsed": true,
    "show_input": true
   },
   "outputs": [],
   "source": []
  },
  {
   "cell_type": "code",
   "execution_count": null,
   "metadata": {
    "collapsed": true,
    "show_input": true
   },
   "outputs": [],
   "source": [
    "#loop through TOD to delete one field"
   ]
  },
  {
   "cell_type": "code",
   "execution_count": 17,
   "metadata": {
    "collapsed": true,
    "show_input": true
   },
   "outputs": [],
   "source": [
    "#modeller = inro.modeller.Modeller()\n",
    "#emmebank = modeller.emmebank\n",
    "#scenario_id = 100\n",
    "#base_scenario = emmebank.scenario(scenario_id)\n",
    "#periods = [\"EA\", \"AM\", \"MD\", \"PM\", \"EV\"]"
   ]
  },
  {
   "cell_type": "code",
   "execution_count": 18,
   "metadata": {
    "collapsed": true,
    "show_input": true
   },
   "outputs": [],
   "source": [
    "#for number, period, in enumerate(periods, start=scenario_id + 1):\n",
    "#    scenario = emmebank.scenario(number)    \n",
    "#    if scenario.extra_attribute(\"@slink_805\"):\n",
    "#        scenario.delete_extra_attribute(\"@slink_805\")   "
   ]
  },
  {
   "cell_type": "code",
   "execution_count": null,
   "metadata": {
    "collapsed": true,
    "show_input": true
   },
   "outputs": [],
   "source": []
  }
 ],
 "metadata": {
  "kernelspec": {
   "display_name": "Python 2",
   "language": "python",
   "name": "python2"
  },
  "language_info": {
   "codemirror_mode": {
    "name": "ipython",
    "version": 2
   },
   "file_extension": ".py",
   "mimetype": "text/x-python",
   "name": "python",
   "nbconvert_exporter": "python",
   "pygments_lexer": "ipython2",
   "version": "2.7.14"
  }
 },
 "nbformat": 4,
 "nbformat_minor": 0
}
