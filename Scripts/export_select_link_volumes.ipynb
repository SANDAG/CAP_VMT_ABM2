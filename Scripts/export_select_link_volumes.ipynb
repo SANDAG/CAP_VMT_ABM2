{
 "cells": [
  {
   "cell_type": "markdown",
   "metadata": {},
   "source": [
    "#Summarize select link flow results by time of day periods to base scenario and export\n",
    "##setup and create attribute to store total select link flows\n",
    "##export the total select link flows to a CSV file\n",
    "##Initial Script: Ziying Ouyang Feb 2019"
   ]
  },
  {
   "cell_type": "code",
   "execution_count": 1,
   "metadata": {
    "collapsed": true,
    "show_input": true
   },
   "outputs": [],
   "source": [
    "import os\n",
    "import pandas as pd\n",
    "import math\n",
    "from IPython.display import display\n",
    "import numpy as py\n",
    "\n",
    "modeller = inro.modeller.Modeller()\n",
    "emmebank = modeller.emmebank"
   ]
  },
  {
   "cell_type": "code",
   "execution_count": 2,
   "metadata": {
    "collapsed": false,
    "show_input": true
   },
   "outputs": [],
   "source": [
    "scenario_id = 100\n",
    "base_scenario = emmebank.scenario(scenario_id)\n",
    "base_network = base_scenario.get_network()\n",
    "main_directory = os.path.dirname(os.path.dirname(modeller.desktop.project.path)).replace(\"\\\\\",\"/\")\n",
    "export_path = os.path.join(main_directory, \"output\").replace(\"\\\\\",\"/\")\n",
    "file_name = os.path.join(export_path, \"loadselk.csv\")\n",
    "import_path = os.path.join(main_directory, \"emme_project\\Database\").replace(\"\\\\\",\"/\")\n",
    "file_name_input = os.path.join(import_path, \"Sl_query.csv\")\n",
    "suffixes = pd.read_csv(file_name_input,sep=',')\n",
    "suffixes = suffixes['Query']\n",
    "id_format = lambda x: str(int(x))"
   ]
  },
  {
   "cell_type": "code",
   "execution_count": 3,
   "metadata": {
    "collapsed": true,
    "show_input": true
   },
   "outputs": [],
   "source": [
    "#daily select link volumes by selection set\n",
    "# the names need to match with the names in the select link result suffix in select link section\n",
    "# of master run\n",
    "\n",
    "#suffixes = [\"dtwn\",\"uptn\",\"kmsa\",\"svly\"]\n",
    "#suffixes = [\"enci\"]\n",
    "total_names = [\"@sel_\" + suffix \n",
    "             for suffix in suffixes]"
   ]
  },
  {
   "cell_type": "code",
   "execution_count": 4,
   "metadata": {
    "collapsed": false,
    "show_input": true
   },
   "outputs": [
    {
     "data": {
      "text/plain": [
       "[('ID1', '@tcov_id'),\n",
       " ('length', 'length'),\n",
       " ('AB_selcarl', '@sel_carl'),\n",
       " ('BA_selcarl', ('@sel_carl', '')),\n",
       " ('AB_selchul', '@sel_chul'),\n",
       " ('BA_selchul', ('@sel_chul', '')),\n",
       " ('AB_selcoro', '@sel_coro'),\n",
       " ('BA_selcoro', ('@sel_coro', '')),\n",
       " ('AB_seldelm', '@sel_delm'),\n",
       " ('BA_seldelm', ('@sel_delm', ''))]"
      ]
     },
     "metadata": {},
     "output_type": "display_data"
    }
   ],
   "source": [
    "hwyload_attrs = [(\"ID1\", \"@tcov_id\"),(\"length\",\"length\")]\n",
    "# AB daily select link volume by section set\n",
    "dir_atts = [(\"AB_sel\" + name[5:], name )  \n",
    "           for name in total_names]\n",
    "\n",
    "for key, attr in dir_atts:\n",
    "            hwyload_attrs.append((key, attr))\n",
    "            hwyload_attrs.append((key.replace(\"AB_\", \"BA_\"), (attr, \"\")))  # default for BA on one-way links is blank\n",
    "#display(hwyload_attrs)"
   ]
  },
  {
   "cell_type": "code",
   "execution_count": 5,
   "metadata": {
    "collapsed": false,
    "show_input": true
   },
   "outputs": [],
   "source": [
    "auto_mode = base_network.mode(\"d\")\n",
    "# only the original forward direction links and auto links only\n",
    "links = [l for l in base_network.links() \n",
    "         if l[\"@tcov_id\"] > 0 and \n",
    "         (auto_mode in l.modes or (l.reverse_link and auto_mode in l.reverse_link.modes))\n",
    "        ]\n",
    "links.sort(key=lambda l: l[\"@tcov_id\"])\n",
    "with open(file_name, 'w') as fout:\n",
    "    fout.write(\",\".join(['\"%s\"' % x[0] for x in hwyload_attrs]))\n",
    "    fout.write(\"\\n\")\n",
    "    for link in links:\n",
    "        key, att = hwyload_attrs[0]  # expected to be the link id\n",
    "        values = [id_format(link[att])]\n",
    "        reverse_link = link.reverse_link\n",
    "        for key, att in hwyload_attrs[1:]:\n",
    "            if key.startswith(\"BA\"):\n",
    "                name, default = att\n",
    "                \n",
    "                if reverse_link and (abs(link[\"@tcov_id\"]) == abs(reverse_link[\"@tcov_id\"])):\n",
    "                    values.append(format(reverse_link[name]))\n",
    "                else:\n",
    "                    values.append(default)\n",
    "\n",
    "                #values.append(format(reverse_link[name]) if reverse_link else default)\n",
    "            elif att.startswith(\"#\"):\n",
    "                values.append('\"%s\"' % link[att])\n",
    "            else:\n",
    "                values.append(format(link[att]))\n",
    "        fout.write(\",\".join(values))\n",
    "        fout.write(\"\\n\")\n"
   ]
  },
  {
   "cell_type": "code",
   "execution_count": 26,
   "metadata": {
    "collapsed": false,
    "show_input": true
   },
   "outputs": [],
   "source": [
    "data = pd.read_csv(file_name,sep=',')\n",
    "names=[]\n",
    "for s in suffixes:\n",
    "    AB_Flow = 'AB_sel' + s\n",
    "    BA_Flow = 'BA_sel' + s\n",
    "    total_flow = \"Total_Flow_sel\" + s\n",
    "    AB_VMT = \"AB_VMT_sel\" + s\n",
    "    BA_VMT = \"BA_VMT_sel\" + s\n",
    "    total_VMT = \"Total_VMT_sel\" + s\n",
    "    data[total_flow] = data[AB_Flow] + data[BA_Flow ] \n",
    "    data[AB_VMT] = data[AB_Flow ] * data['length'] \n",
    "    data[BA_VMT] = data[BA_Flow] * data['length'] \n",
    "    data[total_VMT] = data[total_flow] * data['length']\n",
    "    names.extend([AB_Flow,BA_Flow,total_flow,AB_VMT,BA_VMT,total_VMT]) \n",
    "colnames = [\"ID1\", \"length\"] + names\n",
    "data = data[colnames]\n",
    "data.to_csv(file_name, index= False)"
   ]
  },
  {
   "cell_type": "code",
   "execution_count": null,
   "metadata": {
    "collapsed": true,
    "show_input": true
   },
   "outputs": [],
   "source": []
  }
 ],
 "metadata": {
  "kernelspec": {
   "display_name": "Python 2",
   "language": "python",
   "name": "python2"
  },
  "language_info": {
   "codemirror_mode": {
    "name": "ipython",
    "version": 2
   },
   "file_extension": ".py",
   "mimetype": "text/x-python",
   "name": "python",
   "nbconvert_exporter": "python",
   "pygments_lexer": "ipython2",
   "version": "2.7.14"
  }
 },
 "nbformat": 4,
 "nbformat_minor": 0
}
