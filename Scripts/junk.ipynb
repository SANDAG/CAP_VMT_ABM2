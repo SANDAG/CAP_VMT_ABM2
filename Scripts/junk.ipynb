{
 "cells": [
  {
   "cell_type": "code",
   "execution_count": 1,
   "metadata": {
    "collapsed": false,
    "show_input": true
   },
   "outputs": [],
   "source": [
    "from IPython.display import display\n",
    "my_modeller = inro.modeller.Modeller()\n",
    "emmebank = my_modeller.emmebank\n",
    "desktop = my_modeller.desktop\n",
    "import os\n"
   ]
  },
  {
   "cell_type": "code",
   "execution_count": 2,
   "metadata": {
    "collapsed": false,
    "show_input": true
   },
   "outputs": [
    {
     "data": {
      "text/plain": [
       "u'2016_timed_xfer_EA'"
      ]
     },
     "metadata": {},
     "output_type": "display_data"
    },
    {
     "data": {
      "text/plain": [
       "u'2016_timed_xfer_AM'"
      ]
     },
     "metadata": {},
     "output_type": "display_data"
    },
    {
     "data": {
      "text/plain": [
       "u'2016_timed_xfer_MD'"
      ]
     },
     "metadata": {},
     "output_type": "display_data"
    },
    {
     "data": {
      "text/plain": [
       "u'2016_timed_xfer_PM'"
      ]
     },
     "metadata": {},
     "output_type": "display_data"
    },
    {
     "data": {
      "text/plain": [
       "u'2016_timed_xfer_EV'"
      ]
     },
     "metadata": {},
     "output_type": "display_data"
    },
    {
     "data": {
      "text/plain": [
       "u'2016_transit_passes'"
      ]
     },
     "metadata": {},
     "output_type": "display_data"
    }
   ],
   "source": [
    "project_table_db = desktop.project.data_tables()\n",
    "for t in project_table_db.tables():\n",
    "    display(t.name)"
   ]
  },
  {
   "cell_type": "code",
   "execution_count": 176,
   "metadata": {
    "collapsed": false,
    "show_input": true
   },
   "outputs": [
    {
     "name": "stdout",
     "output_type": "stream",
     "text": [
      "4996\n"
     ]
    }
   ],
   "source": [
    "zones = [emmebank.scenario(100).zone_numbers]\n",
    "print(len(zones[0]))"
   ]
  },
  {
   "cell_type": "code",
   "execution_count": 32,
   "metadata": {
    "collapsed": false,
    "show_input": true
   },
   "outputs": [
    {
     "data": {
      "text/plain": [
       "u'2016_final_airport_ei_update'"
      ]
     },
     "metadata": {},
     "output_type": "display_data"
    },
    {
     "data": {
      "text/plain": [
       "{'centroids': 5000,\n",
       " 'destination_matrices': 999,\n",
       " 'extra_attribute_values': 40000000,\n",
       " 'full_matrices': 1600,\n",
       " 'functions': 99,\n",
       " 'links': 90000,\n",
       " 'operators': 5000,\n",
       " 'origin_matrices': 999,\n",
       " 'regular_nodes': 29999,\n",
       " 'scalar_matrices': 9999,\n",
       " 'scenarios': 10,\n",
       " 'transit_lines': 450,\n",
       " 'transit_segments': 40000,\n",
       " 'transit_vehicles': 200,\n",
       " 'turn_entries': 13000}"
      ]
     },
     "metadata": {},
     "output_type": "display_data"
    },
    {
     "data": {
      "text/plain": [
       "u'100: 2016'"
      ]
     },
     "metadata": {},
     "output_type": "display_data"
    },
    {
     "data": {
      "text/plain": [
       "u'101: 2016 - EA assign'"
      ]
     },
     "metadata": {},
     "output_type": "display_data"
    },
    {
     "data": {
      "text/plain": [
       "u'102: 2016 - AM assign'"
      ]
     },
     "metadata": {},
     "output_type": "display_data"
    },
    {
     "data": {
      "text/plain": [
       "u'103: 2016 - MD assign'"
      ]
     },
     "metadata": {},
     "output_type": "display_data"
    },
    {
     "data": {
      "text/plain": [
       "u'104: 2016 - PM assign'"
      ]
     },
     "metadata": {},
     "output_type": "display_data"
    },
    {
     "data": {
      "text/plain": [
       "u'105: 2016 - EV assign'"
      ]
     },
     "metadata": {},
     "output_type": "display_data"
    }
   ],
   "source": [
    "display(emmebank.title)\n",
    "display(emmebank.dimensions)\n",
    "for scenario in emmebank.scenarios(): \n",
    "    display(scenario.id + \": \" + scenario.title)"
   ]
  },
  {
   "cell_type": "code",
   "execution_count": 2,
   "metadata": {
    "collapsed": false,
    "show_input": true
   },
   "outputs": [
    {
     "data": {
      "text/plain": [
       "[u'Selected demand for AM SOVGPL carl',\n",
       " u'Selected demand for AM SOVTOLLL carl',\n",
       " u'Selected demand for AM HOV2HOVL carl',\n",
       " u'Selected demand for AM HOV2TOLLL carl',\n",
       " u'Selected demand for AM HOV3HOVL carl',\n",
       " u'Selected demand for AM HOV3TOLLL carl',\n",
       " u'Selected demand for AM SOVGPM carl',\n",
       " u'Selected demand for AM SOVTOLLM carl',\n",
       " u'Selected demand for AM HOV2HOVM carl',\n",
       " u'Selected demand for AM HOV2TOLLM carl',\n",
       " u'Selected demand for AM HOV3HOVM carl',\n",
       " u'Selected demand for AM HOV3TOLLM carl',\n",
       " u'Selected demand for AM SOVGPH carl',\n",
       " u'Selected demand for AM SOVTOLLH carl',\n",
       " u'Selected demand for AM HOV2HOVH carl',\n",
       " u'Selected demand for AM HOV2TOLLH carl',\n",
       " u'Selected demand for AM HOV3HOVH carl',\n",
       " u'Selected demand for AM HOV3TOLLH carl',\n",
       " u'Selected demand for AM TRKHGP carl',\n",
       " u'Selected demand for AM TRKHTOLL carl',\n",
       " u'Selected demand for AM TRKLGP carl',\n",
       " u'Selected demand for AM TRKLTOLL carl',\n",
       " u'Selected demand for AM TRKMGP carl',\n",
       " u'Selected demand for AM TRKMTOLL carl',\n",
       " u'Selected demand for AM SOVGPL chul',\n",
       " u'Selected demand for AM SOVTOLLL chul',\n",
       " u'Selected demand for AM HOV2HOVL chul',\n",
       " u'Selected demand for AM HOV2TOLLL chul',\n",
       " u'Selected demand for AM HOV3HOVL chul',\n",
       " u'Selected demand for AM HOV3TOLLL chul',\n",
       " u'Selected demand for AM SOVGPM chul',\n",
       " u'Selected demand for AM SOVTOLLM chul',\n",
       " u'Selected demand for AM HOV2HOVM chul',\n",
       " u'Selected demand for AM HOV2TOLLM chul',\n",
       " u'Selected demand for AM HOV3HOVM chul',\n",
       " u'Selected demand for AM HOV3TOLLM chul',\n",
       " u'Selected demand for AM SOVGPH chul',\n",
       " u'Selected demand for AM SOVTOLLH chul',\n",
       " u'Selected demand for AM HOV2HOVH chul',\n",
       " u'Selected demand for AM HOV2TOLLH chul',\n",
       " u'Selected demand for AM HOV3HOVH chul',\n",
       " u'Selected demand for AM HOV3TOLLH chul',\n",
       " u'Selected demand for AM TRKHGP chul',\n",
       " u'Selected demand for AM TRKHTOLL chul',\n",
       " u'Selected demand for AM TRKLGP chul',\n",
       " u'Selected demand for AM TRKLTOLL chul',\n",
       " u'Selected demand for AM TRKMGP chul',\n",
       " u'Selected demand for AM TRKMTOLL chul',\n",
       " u'Selected demand for AM SOVGPL coro',\n",
       " u'Selected demand for AM SOVTOLLL coro',\n",
       " u'Selected demand for AM HOV2HOVL coro',\n",
       " u'Selected demand for AM HOV2TOLLL coro',\n",
       " u'Selected demand for AM HOV3HOVL coro',\n",
       " u'Selected demand for AM HOV3TOLLL coro',\n",
       " u'Selected demand for AM SOVGPM coro',\n",
       " u'Selected demand for AM SOVTOLLM coro',\n",
       " u'Selected demand for AM HOV2HOVM coro',\n",
       " u'Selected demand for AM HOV2TOLLM coro',\n",
       " u'Selected demand for AM HOV3HOVM coro',\n",
       " u'Selected demand for AM HOV3TOLLM coro',\n",
       " u'Selected demand for AM SOVGPH coro',\n",
       " u'Selected demand for AM SOVTOLLH coro',\n",
       " u'Selected demand for AM HOV2HOVH coro',\n",
       " u'Selected demand for AM HOV2TOLLH coro',\n",
       " u'Selected demand for AM HOV3HOVH coro',\n",
       " u'Selected demand for AM HOV3TOLLH coro',\n",
       " u'Selected demand for AM TRKHGP coro',\n",
       " u'Selected demand for AM TRKHTOLL coro',\n",
       " u'Selected demand for AM TRKLGP coro',\n",
       " u'Selected demand for AM TRKLTOLL coro',\n",
       " u'Selected demand for AM TRKMGP coro',\n",
       " u'Selected demand for AM TRKMTOLL coro',\n",
       " u'Selected demand for AM SOVGPL delm',\n",
       " u'Selected demand for AM SOVTOLLL delm',\n",
       " u'Selected demand for AM HOV2HOVL delm',\n",
       " u'Selected demand for AM HOV2TOLLL delm',\n",
       " u'Selected demand for AM HOV3HOVL delm',\n",
       " u'Selected demand for AM HOV3TOLLL delm',\n",
       " u'Selected demand for AM SOVGPM delm',\n",
       " u'Selected demand for AM SOVTOLLM delm',\n",
       " u'Selected demand for AM HOV2HOVM delm',\n",
       " u'Selected demand for AM HOV2TOLLM delm',\n",
       " u'Selected demand for AM HOV3HOVM delm',\n",
       " u'Selected demand for AM HOV3TOLLM delm',\n",
       " u'Selected demand for AM SOVGPH delm',\n",
       " u'Selected demand for AM SOVTOLLH delm',\n",
       " u'Selected demand for AM HOV2HOVH delm',\n",
       " u'Selected demand for AM HOV2TOLLH delm',\n",
       " u'Selected demand for AM HOV3HOVH delm',\n",
       " u'Selected demand for AM HOV3TOLLH delm',\n",
       " u'Selected demand for AM TRKHGP delm',\n",
       " u'Selected demand for AM TRKHTOLL delm',\n",
       " u'Selected demand for AM TRKLGP delm',\n",
       " u'Selected demand for AM TRKLTOLL delm',\n",
       " u'Selected demand for AM TRKMGP delm',\n",
       " u'Selected demand for AM TRKMTOLL delm']"
      ]
     },
     "metadata": {},
     "output_type": "display_data"
    }
   ],
   "source": [
    "import inro.emme.matrix as _matrix\n",
    "#z= [emmebank.scenario(100).zone_numbers]*2\n",
    "matrix_id_list = []\n",
    "matrix_id_name = []\n",
    "#main_directory = os.path.dirname(os.path.dirname(my_modeller.desktop.project.path)).replace(\"\\\\\",\"/\")\n",
    "#export_path = os.path.join(main_directory, \"output\").replace(\"\\\\\",\"/\")\n",
    "#_m = inro.modeller \n",
    "#NAMESPACE = \"inro.emme.data.matrix.export_matrix_to_csv\"\n",
    "#export_matrix_data = _m.Modeller().tool(NAMESPACE)\n",
    "#export_matrix_data(matrices=[\"mf1\", \"mf2\", \"mo11\", \"mo12\", \"md11\", \"md12\"])\n",
    "\n",
    "for matrix in emmebank.matrices():\n",
    "    if matrix.type == \"FULL\" and \"Selected demand\" in matrix.description and \"AM\" in matrix.description  :\n",
    "            matrix_id_list.append(matrix.id)\n",
    "        \n",
    "        \n",
    "        \n",
    "for i in range(0, (len(matrix_id_list))):\n",
    "   matrix_id_name.append( emmebank.matrix(id = matrix_id_list[i]).description)\n",
    "#for i in range(0, (len(matrix_id_list))):\n",
    "#    name = \"test\" + str(i)+ \".csv\"\n",
    "#    file_name = os.path.join(export_path, name)\n",
    "#    export_matrix_data(matrices = matrix_id_list , export_path = file_name)\n",
    "     \n",
    "\n",
    "#display(matrix_id_name)\n",
    "#test = emmebank.matrix(id=matrix_id_list[6]).get_numpy_data().diagonal()\n",
    "#test_2 = emmebank.matrix(id=matrix_id_list[6]).get_numpy_data()\n",
    "#print(test.sum())\n",
    "#print(test_2.sum())\n",
    "display( matrix_id_name)"
   ]
  },
  {
   "cell_type": "code",
   "execution_count": 206,
   "metadata": {
    "collapsed": false,
    "show_input": true
   },
   "outputs": [
    {
     "ename": "TypeError",
     "evalue": "matrix() got an unexpected keyword argument 'description'",
     "output_type": "error",
     "traceback": [
      "\u001b[1;31m---------------------------------------------------------------------------\u001b[0m",
      "\u001b[1;31mTypeError\u001b[0m                                 Traceback (most recent call last)",
      "\u001b[1;32m<ipython-input-206-47fd142d36bc>\u001b[0m in \u001b[0;36m<module>\u001b[1;34m()\u001b[0m\n\u001b[0;32m      1\u001b[0m \u001b[0ms\u001b[0m\u001b[1;33m=\u001b[0m \u001b[1;34m\"AM\"\u001b[0m \u001b[1;33m+\u001b[0m \u001b[1;34m\"SOV MVOT GP distance\"\u001b[0m\u001b[1;33m\u001b[0m\u001b[0m\n\u001b[1;32m----> 2\u001b[1;33m \u001b[0mskim\u001b[0m \u001b[1;33m=\u001b[0m \u001b[0memmebank\u001b[0m\u001b[1;33m.\u001b[0m\u001b[0mmatrix\u001b[0m\u001b[1;33m(\u001b[0m\u001b[0mdescription\u001b[0m \u001b[1;33m=\u001b[0m \u001b[0ms\u001b[0m \u001b[1;33m)\u001b[0m\u001b[1;33m\u001b[0m\u001b[0m\n\u001b[0m",
      "\u001b[1;32mC:\\Program Files\\INRO\\Emme\\Emme 4\\Emme-4.3.7\\python-lib\\win64\\2.7\\modeller\\inro.director.proxy\\inro\\director\\proxy\\method.pyc\u001b[0m in \u001b[0;36m_wrap\u001b[1;34m(*args, **kwargs)\u001b[0m\n",
      "\u001b[1;31mTypeError\u001b[0m: matrix() got an unexpected keyword argument 'description'"
     ]
    }
   ],
   "source": [
    "s= \"AM\" + \"SOV MVOT GP distance\" \n",
    "skim = emmebank.matrix(description = s )"
   ]
  },
  {
   "cell_type": "code",
   "execution_count": 191,
   "metadata": {
    "collapsed": false,
    "show_input": true
   },
   "outputs": [],
   "source": [
    "import numpy as py\n",
    "import pandas as pd\n",
    "x=[]\n",
    "for i in range(0, (len(matrix_id_list))):\n",
    "   # a[:,:,i] = emmebank.matrix(id = matrix_id_list[i])\n",
    "    x.append(emmebank.matrix(id = matrix_id_list[i]).get_numpy_data())\n",
    "   "
   ]
  },
  {
   "cell_type": "code",
   "execution_count": 203,
   "metadata": {
    "collapsed": false,
    "show_input": true
   },
   "outputs": [
    {
     "data": {
      "text/plain": [
       "1.0098877"
      ]
     },
     "execution_count": 203,
     "metadata": {},
     "output_type": "execute_result"
    }
   ],
   "source": [
    "x[12].trace() - x[0].trace()"
   ]
  },
  {
   "cell_type": "code",
   "execution_count": 18,
   "metadata": {
    "collapsed": false,
    "show_input": true
   },
   "outputs": [],
   "source": [
    "suffixes = [\"dtwn\"]\n",
    "periods = [\"EA\", \"AM\", \"MD\", \"PM\", \"EV\"]\n",
    "matrix_id_list = []\n",
    "matrix_id_name = []\n",
    "\n",
    "for matrix in emmebank.matrices():\n",
    "    if matrix.type == \"FULL\" and \"Selected demand\" in matrix.description and \"uptn\" in matrix.description  :\n",
    "        matrix_id_list.append(matrix.id)\n",
    "#expression = \"+\".join(matrix_id_list)\n",
    "_m = inro.modeller \n",
    "\n",
    "NAMESPACE = \"inro.emme.data.matrix.create_matrix\"\n",
    "create_matrix = _m.Modeller().tool(NAMESPACE)\n",
    "matrix_id = \"mf1504\"\n",
    "\n",
    "if emmebank.matrix(id=matrix_id) in emmebank.matrices() :\n",
    "    emmebank.delete_matrix(id=matrix_id)\n",
    "\n",
    "new_mat = create_matrix(matrix_id=matrix_id,\n",
    "                        matrix_name=\"totdem\",\n",
    "                        matrix_description=\"total daily demand uptwn\",\n",
    "                        default_value=0)\n",
    "\n",
    "NAMESPACE = \"inro.emme.matrix_calculation.matrix_calculator\"\n",
    "compute_matrix = _m.Modeller().tool(NAMESPACE)\n",
    "\n",
    "for i in matrix_id_list :\n",
    "    expression = \"+\".join([i,matrix_id])    \n",
    "    specification = {\n",
    "    \"type\": \"MATRIX_CALCULATION\",\n",
    "    \"result\": matrix_id,\n",
    "    \"expression\": expression }\n",
    "    compute_matrix(specification)"
   ]
  },
  {
   "cell_type": "code",
   "execution_count": 19,
   "metadata": {
    "collapsed": false,
    "show_input": true
   },
   "outputs": [
    {
     "name": "stdout",
     "output_type": "stream",
     "text": [
      "0.0\n"
     ]
    }
   ],
   "source": [
    "a=emmebank.matrix(id = 'mf1504').get_data()\n",
    "tot=0\n",
    "b= len(emmebank.scenario(100).zone_numbers)\n",
    "for i in range(1,b):\n",
    "    for j in range(1,b):\n",
    "        tot= a.get(i,j)+tot\n",
    "print(tot)        "
   ]
  },
  {
   "cell_type": "code",
   "execution_count": 6,
   "metadata": {
    "collapsed": false,
    "show_input": true
   },
   "outputs": [],
   "source": [
    "_m = inro.modeller\n",
    "NAMESPACE = \"inro.emme.data.matrix.create_matrix\"\n",
    "create_matrix = _m.Modeller().tool(NAMESPACE)\n",
    "new_mat = create_matrix(matrix_id=\"mf1502\",\n",
    "                        matrix_name=\"aggr\",\n",
    "                       matrix_description=\"test aggregation\",\n",
    "                       default_value=0)\n"
   ]
  },
  {
   "cell_type": "code",
   "execution_count": 25,
   "metadata": {
    "collapsed": false,
    "show_input": true
   },
   "outputs": [
    {
     "data": {
      "text/plain": [
       "<inro.emme.matrix.MatrixData at 0x133f94f8>"
      ]
     },
     "execution_count": 25,
     "metadata": {},
     "output_type": "execute_result"
    }
   ],
   "source": [
    "NAMESPACE = \"inro.emme.matrix_calculation.matrix_partition_aggregation\"\n",
    "partition_aggr = _m.Modeller().tool(NAMESPACE)\n",
    "matrix = _m.Modeller().emmebank.matrix(\"mf1501\")\n",
    "agg_matrix = _m.Modeller().emmebank.matrix(\"mf1502\")\n",
    "origin_partition = _m.Modeller().emmebank.partition(\"ga\")\n",
    "destination_partition = _m.Modeller().emmebank.partition(\"ga\")\n",
    "partition_aggr(matrix, origin_partition, destination_partition,\n",
    "               operator=\"sum\", result_matrix=agg_matrix, log_report=True)"
   ]
  },
  {
   "cell_type": "code",
   "execution_count": 30,
   "metadata": {
    "collapsed": false,
    "show_input": true
   },
   "outputs": [],
   "source": [
    "import os\n",
    "_m = inro.modeller \n",
    "NAMESPACE = \"inro.emme.data.zone_partition.partition_transaction\"\n",
    "process = _m.Modeller().tool(NAMESPACE)\n",
    "default_path = os.path.dirname(_m.Modeller().emmebank.path).replace(\"\\\\\",\"/\")\n",
    "partition_file = os.path.join(default_path,\"test.in\").replace(\"\\\\\",\"/\")\n",
    "process(transaction_file = partition_file,\n",
    "        throw_on_error = True,\n",
    "        scenario = _m.Modeller().scenario)\n"
   ]
  },
  {
   "cell_type": "code",
   "execution_count": 26,
   "metadata": {
    "collapsed": false,
    "show_input": true
   },
   "outputs": [
    {
     "data": {
      "text/plain": [
       "array([[ 453744.59375,  453744.59375,  453744.59375, ...,  453744.59375,\n",
       "         453744.59375,  453744.59375],\n",
       "       [ 453744.59375,  453744.59375,  453744.59375, ...,  453744.59375,\n",
       "         453744.59375,  453744.59375],\n",
       "       [ 453744.59375,  453744.59375,  453744.59375, ...,  453744.59375,\n",
       "         453744.59375,  453744.59375],\n",
       "       ..., \n",
       "       [ 453744.59375,  453744.59375,  453744.59375, ...,  453744.59375,\n",
       "         453744.59375,  453744.59375],\n",
       "       [ 453744.59375,  453744.59375,  453744.59375, ...,  453744.59375,\n",
       "         453744.59375,  453744.59375],\n",
       "       [ 453744.59375,  453744.59375,  453744.59375, ...,  453744.59375,\n",
       "         453744.59375,  453744.59375]], dtype=float32)"
      ]
     },
     "execution_count": 26,
     "metadata": {},
     "output_type": "execute_result"
    }
   ],
   "source": [
    "emmebank.matrix(\"mf1502\").get_numpy_data()"
   ]
  },
  {
   "cell_type": "code",
   "execution_count": 15,
   "metadata": {
    "collapsed": false,
    "show_input": true
   },
   "outputs": [
    {
     "ename": "TypeError",
     "evalue": "__init__() takes exactly 3 arguments (1 given)",
     "output_type": "error",
     "traceback": [
      "\u001b[1;31m---------------------------------------------------------------------------\u001b[0m",
      "\u001b[1;31mTypeError\u001b[0m                                 Traceback (most recent call last)",
      "\u001b[1;32m<ipython-input-15-d0856a48f009>\u001b[0m in \u001b[0;36m<module>\u001b[1;34m()\u001b[0m\n\u001b[1;32m----> 1\u001b[1;33m \u001b[0minro\u001b[0m\u001b[1;33m.\u001b[0m\u001b[0memme\u001b[0m\u001b[1;33m.\u001b[0m\u001b[0mdatabase\u001b[0m\u001b[1;33m.\u001b[0m\u001b[0mpartition\u001b[0m\u001b[1;33m.\u001b[0m\u001b[0mPartition\u001b[0m\u001b[1;33m(\u001b[0m\u001b[1;33m)\u001b[0m\u001b[1;33m\u001b[0m\u001b[0m\n\u001b[0m",
      "\u001b[1;31mTypeError\u001b[0m: __init__() takes exactly 3 arguments (1 given)"
     ]
    }
   ],
   "source": [
    "inro.emme.database.partition.Partition()"
   ]
  },
  {
   "cell_type": "code",
   "execution_count": null,
   "metadata": {
    "collapsed": true,
    "show_input": true
   },
   "outputs": [],
   "source": []
  },
  {
   "cell_type": "code",
   "execution_count": null,
   "metadata": {
    "collapsed": true,
    "show_input": true
   },
   "outputs": [],
   "source": []
  },
  {
   "cell_type": "code",
   "execution_count": 81,
   "metadata": {
    "collapsed": false,
    "show_input": true
   },
   "outputs": [
    {
     "data": {
      "text/plain": [
       "u'EA SOV LVOT GP distance'"
      ]
     },
     "execution_count": 81,
     "metadata": {},
     "output_type": "execute_result"
    }
   ],
   "source": [
    "emmebank.matrix(id = matrix_id_list[0]).description"
   ]
  },
  {
   "cell_type": "code",
   "execution_count": 7,
   "metadata": {
    "collapsed": true,
    "show_input": true
   },
   "outputs": [],
   "source": [
    "display"
   ]
  },
  {
   "cell_type": "code",
   "execution_count": 8,
   "metadata": {
    "collapsed": false,
    "show_input": true
   },
   "outputs": [
    {
     "name": "stdout",
     "output_type": "stream",
     "text": [
      "['@sel_dtwn', '@sel_kmsa', '@sel_svly']\n"
     ]
    }
   ],
   "source": [
    "print(total_names\n",
    "      )"
   ]
  },
  {
   "cell_type": "code",
   "execution_count": 9,
   "metadata": {
    "collapsed": true,
    "show_input": true
   },
   "outputs": [],
   "source": [
    "dir_atts = [(\"AB_sel\" + name[5:], name )  \n",
    "           for name in total_names]"
   ]
  },
  {
   "cell_type": "raw",
   "metadata": {},
   "source": [
    "print(dir_atts)\n"
   ]
  },
  {
   "cell_type": "code",
   "execution_count": 10,
   "metadata": {
    "collapsed": true,
    "show_input": true
   },
   "outputs": [],
   "source": [
    "from IPython.display import display\n"
   ]
  },
  {
   "cell_type": "code",
   "execution_count": 11,
   "metadata": {
    "collapsed": false,
    "show_input": true
   },
   "outputs": [
    {
     "data": {
      "text/plain": [
       "[('AB_seldtwn', '@sel_dtwn'),\n",
       " ('AB_selkmsa', '@sel_kmsa'),\n",
       " ('AB_selsvly', '@sel_svly')]"
      ]
     },
     "metadata": {},
     "output_type": "display_data"
    }
   ],
   "source": [
    "display(dir_atts)\n"
   ]
  },
  {
   "cell_type": "code",
   "execution_count": 78,
   "metadata": {
    "collapsed": false,
    "show_input": true
   },
   "outputs": [
    {
     "name": "stdout",
     "output_type": "stream",
     "text": [
      "          A         B         C         D\n",
      "0  2.411552  0.608801 -0.249578  0.446778\n",
      "1 -0.880937 -1.013413  1.687432  1.737403\n",
      "2 -1.496340  0.584503 -0.036850 -1.240719\n",
      "3  0.809276 -0.633605 -1.407681 -1.577739\n",
      "4  0.795115  1.479018  0.193884  0.931177\n",
      "5 -1.016758  2.155448  0.142779  0.204896\n"
     ]
    }
   ],
   "source": [
    "import numpy as py\n",
    "import pandas as pd\n",
    "\n",
    "df = pd.DataFrame(py.random.randn(6,4),columns=list('ABCD'))\n",
    "print(df)"
   ]
  },
  {
   "cell_type": "code",
   "execution_count": 220,
   "metadata": {
    "collapsed": false,
    "show_input": true
   },
   "outputs": [],
   "source": [
    "suffix = [\"dtwn\"]\n",
    "period = [\"EA\"]\n",
    "for matrix in emmebank.matrices():\n",
    "       if matrix.type == \"FULL\" and \"SOV MVOT GP distance\" in matrix.description and \"EA\" in matrix.description  :\n",
    "            skim = emmebank.matrix( id = matrix.id).get_numpy_data()\n",
    "skim_intra = skim.diagonal()\n",
    "trip_intra = emmebank.matrix( id = 'mf1503' ).get_numpy_data().diagonal() \n",
    "group_I = data[data['suffix']== \"dtwn\"]['zone_id']   "
   ]
  },
  {
   "cell_type": "code",
   "execution_count": 239,
   "metadata": {
    "collapsed": false,
    "show_input": true
   },
   "outputs": [
    {
     "data": {
      "text/html": [
       "<div style=\"max-height:1000px;max-width:1500px;overflow:auto;\">\n",
       "<table border=\"1\" class=\"dataframe\">\n",
       "  <thead>\n",
       "    <tr style=\"text-align: right;\">\n",
       "      <th></th>\n",
       "      <th>col1</th>\n",
       "      <th>name</th>\n",
       "    </tr>\n",
       "  </thead>\n",
       "  <tbody>\n",
       "    <tr>\n",
       "      <th>0</th>\n",
       "      <td>1</td>\n",
       "      <td>3</td>\n",
       "    </tr>\n",
       "    <tr>\n",
       "      <th>1</th>\n",
       "      <td>2</td>\n",
       "      <td>4</td>\n",
       "    </tr>\n",
       "  </tbody>\n",
       "</table>\n",
       "</div>"
      ],
      "text/plain": [
       "   col1  name\n",
       "0     1     3\n",
       "1     2     4"
      ]
     },
     "execution_count": 239,
     "metadata": {},
     "output_type": "execute_result"
    }
   ],
   "source": [
    "name= \"name\"\n",
    "pd.DataFrame({'col1': [1, 2], name: [3, 4]})"
   ]
  },
  {
   "cell_type": "code",
   "execution_count": 164,
   "metadata": {
    "collapsed": false,
    "show_input": true
   },
   "outputs": [],
   "source": [
    "import os\n",
    "suffix=[\"dtwn\"]\n",
    "main_directory = os.path.dirname(os.path.dirname(my_modeller.desktop.project.path)).replace(\"\\\\\",\"/\")\n",
    "import_path = os.path.join(main_directory, \"emme_project\\Database\").replace(\"\\\\\",\"/\")\n",
    "ouput_path = os.path.join(main_directory, \"output\").replace(\"\\\\\",\"/\")\n",
    "file_name_input = os.path.join(import_path, \"xref_taz13_emp_center_tier1.csv\")\n",
    "\n",
    "\n",
    "data = pd.read_csv(file_name_input,sep=',') \n",
    "data.head()\n",
    "for s in suffix:\n",
    "    group_I = data[data['suffix']== \"dtwn\"]['zone_id']\n",
    "    zones = [emmebank.scenario(100).zone_numbers] \n",
    "    group_E = set(zones[0]) - set(group_I)\n",
    "    index_I = group_I - 1 \n",
    "    index_E = py.array((map(int,group_E) )) -1\n",
    "    demand = pd.DataFrame(emmebank.matrix('mf1503').get_numpy_data())\n",
    "    II=demand.iloc[(index_I)].iloc[:,index_I].values.sum()\n",
    "    IE=demand.iloc[index_I].iloc[:,index_E].values.sum()\n",
    "    EI=demand.iloc[index_E].iloc[:,index_I].values.sum()\n",
    "    EE=demand.iloc[index_E].iloc[:,index_E].values.sum()\n",
    "    aggregated_demand = pd.DataFrame ({ 'col1' :[II,IE] , 'col2' : [EI,EE] })\n",
    "    file_name = \"SL_Agg_SLDaily\" + s + \".csv\"\n",
    "    dir_ouput = os.path.join(ouput_path, file_name)\n",
    "    aggregated_demand.to_csv(dir_ouput, header = False, index= False)\n",
    "    "
   ]
  },
  {
   "cell_type": "code",
   "execution_count": 257,
   "metadata": {
    "collapsed": true,
    "show_input": true
   },
   "outputs": [],
   "source": [
    "from IPython.display import display\n",
    "import os\n",
    "import numpy as py\n",
    "import pandas as pd\n",
    "my_modeller = inro.modeller.Modeller()\n",
    "emmebank = my_modeller.emmebank\n",
    "desktop = my_modeller.desktop\n",
    "\n",
    "#I/O \n",
    "main_directory = os.path.dirname(os.path.dirname(my_modeller.desktop.project.path)).replace(\"\\\\\",\"/\")\n",
    "import_path = os.path.join(main_directory, \"emme_project\\Database\").replace(\"\\\\\",\"/\")\n",
    "ouput_path = os.path.join(main_directory, \"output\").replace(\"\\\\\",\"/\")\n",
    "file_name_input = os.path.join(import_path, \"xref_taz13_jur.csv\")\n",
    "\n",
    "\n",
    "data = pd.read_csv(file_name_input,sep=',')\n",
    "suffix = [\"Encinitas\"]\n",
    "periods = [\"EA\", \"AM\", \"MD\", \"PM\", \"EV\"]\n",
    "###import \n",
    "def Intrazonal_VMT ( period, suffix ) :\n",
    "    matrix_id_list = []\n",
    "    matrix_id_name = []\n",
    "##choose selected demand matrices from emmebank and add them to get the total demand\n",
    "    for matrix in emmebank.matrices():\n",
    "        if matrix.type == \"FULL\" and \"Selected demand\" in matrix.description and suffix in matrix.description and period in matrix.description  :\n",
    "            matrix_id_list.append(matrix.id)\n",
    "        if matrix.type == \"FULL\" and \"SOV MVOT GP distance\" in matrix.description and period in matrix.description  :\n",
    "            skim = emmebank.matrix( id = matrix.id).get_numpy_data()\n",
    "        \n",
    "             \n",
    "    NAMESPACE = \"inro.emme.data.matrix.create_matrix\"\n",
    "    create_matrix = my_modeller.tool(NAMESPACE)\n",
    "    matrix_id = \"mf1504\"\n",
    "\n",
    "    if emmebank.matrix(id=matrix_id) in emmebank.matrices() :\n",
    "        emmebank.delete_matrix(id=matrix_id)\n",
    "\n",
    "    new_mat = create_matrix(matrix_id=matrix_id,\n",
    "                        matrix_name=\"totdem\",\n",
    "                        matrix_description=\"total daily demand uptwn\",\n",
    "                        default_value=0)\n",
    "\n",
    "    NAMESPACE = \"inro.emme.matrix_calculation.matrix_calculator\"\n",
    "    compute_matrix = my_modeller.tool(NAMESPACE)\n",
    "\n",
    "    for i in matrix_id_list :\n",
    "        expression = \"+\".join([i,matrix_id])    \n",
    "        specification = {\n",
    "        \"type\": \"MATRIX_CALCULATION\",\n",
    "        \"result\": matrix_id,\n",
    "        \"expression\": expression }\n",
    "        compute_matrix(specification)\n",
    "    skim_intra = skim.diagonal()\n",
    "    trip_intra = emmebank.matrix( id = matrix_id ).get_numpy_data().diagonal() \n",
    "    group_I = data[data['suffix']== suffix]['zone_id']\n",
    "    index_I = group_I - 1 \n",
    "    VMT_intra = trip_intra[index_I] * skim_intra[index_I]\n",
    "    result = pd.DataFrame( {'TAZ':group_I , period: VMT_intra} )\n",
    "    return result"
   ]
  },
  {
   "cell_type": "code",
   "execution_count": 249,
   "metadata": {
    "collapsed": false,
    "show_input": true
   },
   "outputs": [],
   "source": [
    "a= Intrazonal_VMT(\"AM\", \"dtwn\")\n",
    "b= Intrazonal_VMT(\"EA\", \"dtwn\")\n",
    "c= Intrazonal_VMT(\"PM\", \"dtwn\")\n",
    "d= Intrazonal_VMT(\"MD\", \"dtwn\")\n",
    "e= Intrazonal_VMT(\"EV\", \"dtwn\")\n"
   ]
  },
  {
   "cell_type": "code",
   "execution_count": null,
   "metadata": {
    "collapsed": true,
    "show_input": true
   },
   "outputs": [],
   "source": [
    "                  import inro.modeller as _m\n",
    "import os\n",
    "modeller = _m.Modeller()\n",
    "desktop = modeller.desktop \n",
    "\n",
    "master_run = modeller.tool(\"sandag.master_run\")\n",
    "_dir = os.path.dirname\n",
    "project_dir = _dir(_m.Modeller().desktop.project.path)\n",
    "main_directory= _dir(project_dir)\n",
    "scenario_id = 100\n",
    "scenario_title = \"\"\n",
    "emmebank_title = \"\"\n",
    "num_processors = \"MAX-1\"\n",
    "SL = '[{\"expression\":\"@selected_zone = 1 or @selected_zonej = 1\",\"suffix\":\"carl\",\"threshold\" : \"1\" }]' \n",
    "SL = '{\"expression\": \"@selected_zone = 1 or @selected_zonej = 1\", \"suffix\": \"carl\",\"threshold\" : \"1\" }'\n",
    "SL = {\n",
    "    \"expression\": 1,\n",
    "    \"id\": 1,\n",
    "    \"title\": \"delectus aut autem\"\n",
    "}\n",
    "master_run(main_directory, scenario_id, scenario_title, emmebank_title, num_processors, select_link = SL) "
   ]
  }
 ],
 "metadata": {
  "kernelspec": {
   "display_name": "Python 2",
   "language": "python",
   "name": "python2"
  },
  "language_info": {
   "codemirror_mode": {
    "name": "ipython",
    "version": 2
   },
   "file_extension": ".py",
   "mimetype": "text/x-python",
   "name": "python",
   "nbconvert_exporter": "python",
   "pygments_lexer": "ipython2",
   "version": "2.7.14"
  }
 },
 "nbformat": 4,
 "nbformat_minor": 0
}
