{
 "cells": [
  {
   "cell_type": "code",
   "execution_count": 1,
   "metadata": {
    "collapsed": true,
    "show_input": true
   },
   "outputs": [],
   "source": [
    "# Set up database dimension for select link assignment"
   ]
  },
  {
   "cell_type": "code",
   "execution_count": 9,
   "metadata": {
    "collapsed": false,
    "show_input": true
   },
   "outputs": [
    {
     "ename": "KeyboardInterrupt",
     "evalue": "",
     "output_type": "error",
     "traceback": [
      "\u001b[1;31m---------------------------------------------------------------------------\u001b[0m",
      "\u001b[1;31mKeyboardInterrupt\u001b[0m                         Traceback (most recent call last)",
      "\u001b[1;32m<ipython-input-9-bb2caefadb74>\u001b[0m in \u001b[0;36m<module>\u001b[1;34m()\u001b[0m\n\u001b[0;32m     10\u001b[0m \u001b[0mdimensions\u001b[0m\u001b[1;33m[\u001b[0m\u001b[1;34m\"extra_attribute_values\"\u001b[0m\u001b[1;33m]\u001b[0m\u001b[1;33m=\u001b[0m\u001b[1;36m22000000\u001b[0m\u001b[1;33m\u001b[0m\u001b[0m\n\u001b[0;32m     11\u001b[0m change_db_dimension(emmebank_dimensions=dimensions,\n\u001b[1;32m---> 12\u001b[1;33m               keep_backup=True)\n\u001b[0m",
      "\u001b[1;32mC:\\Program Files\\INRO\\Emme\\Emme 4\\Emme-4.3.7\\python-lib\\win64\\2.7\\modeller\\inro.director.logging\\inro\\director\\logging\\trail.pyc\u001b[0m in \u001b[0;36m__trace\u001b[1;34m(*args, **kwargs)\u001b[0m\n",
      "\u001b[1;32mC:/Users/arasha/AppData/Local/Temp/change_database_dimensions-639c784f66ea11e9abb8d0946610ebbd.pyc\u001b[0m in \u001b[0;36m__call__\u001b[1;34m(self, emmebank_dimensions, emmebank, keep_backup)\u001b[0m\n",
      "\u001b[1;32mC:\\Program Files\\INRO\\Emme\\Emme 4\\Emme-4.3.7\\python-lib\\win64\\2.7\\api\\inro\\emme\\database\\emmebank.pyc\u001b[0m in \u001b[0;36mchange_dimensions\u001b[1;34m(path, dimensions, keep_backup)\u001b[0m\n",
      "\u001b[1;32mC:\\Program Files\\INRO\\Emme\\Emme 4\\Emme-4.3.7\\python-lib\\win64\\2.7\\api\\inro\\emme\\database\\emmebank.pyc\u001b[0m in \u001b[0;36m_copy_emmebank\u001b[1;34m(src_bank, dst_bank)\u001b[0m\n",
      "\u001b[1;32mC:\\Program Files\\INRO\\Emme\\Emme 4\\Emme-4.3.7\\python-lib\\win64\\2.7\\api\\inro\\emme\\database\\emmebank.pyc\u001b[0m in \u001b[0;36m_copy_matrix\u001b[1;34m(src_matrix, dst_matrix)\u001b[0m\n",
      "\u001b[1;32mC:\\Program Files\\INRO\\Emme\\Emme 4\\Emme-4.3.7\\python-lib\\win64\\2.7\\api\\inro\\emme\\database\\matrix.pyc\u001b[0m in \u001b[0;36mname\u001b[1;34m(self)\u001b[0m\n",
      "\u001b[1;31mKeyboardInterrupt\u001b[0m: "
     ]
    }
   ],
   "source": [
    "import os\n",
    "\n",
    "modeller = inro.modeller.Modeller()\n",
    "emmebank = modeller.emmebank\n",
    "change_db_dimension = modeller.tool(\"inro.emme.data.database.change_database_dimensions\")\n",
    "import_attr_values = modeller.tool(\"inro.emme.data.network.import_attribute_values\")\n",
    "create_attr = modeller.tool(\"inro.emme.data.extra_attribute.create_extra_attribute\")\n",
    "copy_attr = modeller.tool(\"inro.emme.data.network.copy_attribute\")\n",
    "dimensions = emmebank.dimensions\n",
    "dimensions[\"extra_attribute_values\"]=18000000\n",
    "change_db_dimension(emmebank_dimensions=dimensions,\n",
    "              keep_backup=True)\n"
   ]
  },
  {
   "cell_type": "code",
   "execution_count": 2,
   "metadata": {
    "collapsed": true,
    "show_input": true
   },
   "outputs": [],
   "source": [
    "# the CSV file is in emme_project/database\n",
    "# with two columns: zone_id, group_id (tier 1 employment centers) \n",
    "scenario = emmebank.scenario(101)\n",
    "create_attr(\"NODE\", \"@selected_zone\", \"jurisdiction\", overwrite=True, scenario=scenario)\n",
    "\n",
    "default_path = os.path.dirname(modeller.emmebank.path).replace(\"\\\\\",\"/\")\n",
    "file_path = os.path.join(default_path,\"xref_taz13_jur.csv\").replace(\"\\\\\",\"/\")\n",
    "import_attr_values(file_path,\n",
    "              field_separator = \",\",\n",
    "              scenario = scenario,\n",
    "              column_labels={0: \"inode\", \n",
    "                             1: \"@selected_zone\"},\n",
    "              revert_on_error=True)\n",
    "\n",
    "for scenario_id in range(102, 106):\n",
    "    time_scenario = emmebank.scenario(scenario_id)\n",
    "    create_attr(\"NODE\", \"@selected_zone\", \"jurisdiction\", overwrite=True, scenario=time_scenario)\n",
    "    copy_attr(from_attribute_name = \"@selected_zone\",\n",
    "              to_attribute_name = \"@selected_zone\", \n",
    "              from_scenario = scenario, \n",
    "              to_scenario = time_scenario)\n"
   ]
  },
  {
   "cell_type": "code",
   "execution_count": null,
   "metadata": {
    "collapsed": true,
    "show_input": true
   },
   "outputs": [],
   "source": [
    "new_dimensions = emmebank.dimensions\n",
    "\n",
    "new_dimensions[\"extra_attribute_values\"]+=22000000\n",
    "change_db_dimension(emmebank_dimensions=new_dimensions,\n",
    "              keep_backup=True)"
   ]
  }
 ],
 "metadata": {
  "kernelspec": {
   "display_name": "Python 2",
   "language": "python",
   "name": "python2"
  },
  "language_info": {
   "codemirror_mode": {
    "name": "ipython",
    "version": 2
   },
   "file_extension": ".py",
   "mimetype": "text/x-python",
   "name": "python",
   "nbconvert_exporter": "python",
   "pygments_lexer": "ipython2",
   "version": "2.7.14"
  }
 },
 "nbformat": 4,
 "nbformat_minor": 0
}
