{
 "cells": [
  {
   "cell_type": "markdown",
   "metadata": {
    "collapsed": true,
    "show_input": true
   },
   "source": [
    "#loop through TOD to delete extra select link fields\n",
    "\n",
    "##Initial Script: Ziying Ouyang Feb 2019"
   ]
  },
  {
   "cell_type": "code",
   "execution_count": 14,
   "metadata": {
    "collapsed": false,
    "show_input": true
   },
   "outputs": [
    {
     "name": "stdout",
     "output_type": "stream",
     "text": [
      "0     carl\n",
      "1     chul\n",
      "2     coro\n",
      "3     delm\n",
      "4     elca\n",
      "5     enci\n",
      "6     esco\n",
      "7     impe\n",
      "8     lame\n",
      "9     lemo\n",
      "10    nati\n",
      "11    ocea\n",
      "12    powa\n",
      "13    sand\n",
      "14    sanm\n",
      "15    sant\n",
      "16    sola\n",
      "17    vist\n",
      "18    unin\n",
      "19    dtwn\n",
      "20    uptn\n",
      "21    kmsa\n",
      "22    svly\n",
      "Name: Suffixes, dtype: object\n"
     ]
    }
   ],
   "source": [
    "modeller = inro.modeller.Modeller()\n",
    "emmebank = modeller.emmebank\n",
    "scenario_id = 100\n",
    "base_scenario = emmebank.scenario(scenario_id)\n",
    "import os\n",
    "import pandas as pd\n",
    "\n",
    "\n",
    "#I/O\n",
    "main_directory = os.path.dirname(os.path.dirname(modeller.desktop.project.path)).replace(\"\\\\\",\"/\")\n",
    "import_path = os.path.join(main_directory, \"emme_project\\Database\").replace(\"\\\\\",\"/\")\n",
    "file_name_input = os.path.join(import_path, \"suffixes.csv\")\n",
    "\n",
    "\n",
    "suffixes = pd.read_csv(file_name_input,sep=',')\n",
    "\n",
    "suffixes = suffixes['Suffixes']\n"
   ]
  },
  {
   "cell_type": "code",
   "execution_count": 15,
   "metadata": {
    "collapsed": false,
    "show_input": true
   },
   "outputs": [],
   "source": [
    "periods = [\"EA\", \"AM\", \"MD\", \"PM\", \"EV\"]\n",
    "#delete node extra attribute by scenario\n",
    "name = '@selected_zone'\n",
    "for number, period, in enumerate(periods, start=scenario_id + 1):\n",
    "    scenario = emmebank.scenario(number)\n",
    "    if scenario.extra_attribute(name):\n",
    "            scenario.delete_extra_attribute(name) "
   ]
  },
  {
   "cell_type": "code",
   "execution_count": 16,
   "metadata": {
    "collapsed": false,
    "show_input": true
   },
   "outputs": [],
   "source": [
    "#delete daily select link volumes in base scenario (100)\n",
    "#suffixes = [\"dtwn\",\"uptn\",\"kmsa\",\"svly\"]\n",
    "\n",
    "for suffix in suffixes:   \n",
    "        suffix = str(suffix)\n",
    "        if base_scenario.extra_attribute(\"@sel_\"+ suffix):\n",
    "            base_scenario.delete_extra_attribute(\"@sel_\"+ suffix) \n"
   ]
  },
  {
   "cell_type": "code",
   "execution_count": 17,
   "metadata": {
    "collapsed": false,
    "show_input": true
   },
   "outputs": [],
   "source": [
    "#set variable to the select link volume by vehicle class by district name\n",
    "auto_classes = [\n",
    "    'SOVGPL', 'SOVTOLLL', 'HOV2HOVL', 'HOV2TOLLL', 'HOV3HOVL', 'HOV3TOLLL',\n",
    "    'SOVGPM', 'SOVTOLLM', 'HOV2HOVM', 'HOV2TOLLM', 'HOV3HOVM', 'HOV3TOLLM',\n",
    "    'SOVGPH', 'SOVTOLLH', 'HOV2HOVH', 'HOV2TOLLH', 'HOV3HOVH', 'HOV3TOLLH',\n",
    "]\n",
    "\n",
    "truck_classes = [\n",
    "    'TRKHGP', 'TRKHTOLL',\n",
    "    'TRKLGP', 'TRKLTOLL', \n",
    "    'TRKMGP','TRKMTOLL',\n",
    "]\n",
    "   "
   ]
  },
  {
   "cell_type": "code",
   "execution_count": 18,
   "metadata": {
    "collapsed": false,
    "show_input": true
   },
   "outputs": [],
   "source": [
    "#loop through number of select links to delete select link fields\n",
    "for suffix in suffixes:\n",
    "    suffix = str(suffix)\n",
    "    auto_attrs = [\"@sl_\" + name.lower() + \"_\" + suffix\n",
    "              for name in auto_classes]\n",
    "\n",
    "    truck_attrs = [\"@sl_\" + name.lower() + \"_\" + suffix\n",
    "                   for name in truck_classes]\n",
    "    \n",
    "    #loop through time of day to delete select link fields\n",
    "    for number, period, in enumerate(periods, start=scenario_id + 1):\n",
    "        scenario = emmebank.scenario(number)    \n",
    "        for name in auto_attrs: \n",
    "            if scenario.extra_attribute(name):\n",
    "                scenario.delete_extra_attribute(name)            \n",
    "        for name in truck_attrs: \n",
    "            if scenario.extra_attribute(name):\n",
    "                scenario.delete_extra_attribute(name)\n",
    "    #delete @slink_xxxx (@slink_xxxx = 1 are of selected links) \n",
    "              \n",
    "        if scenario.extra_attribute(\"@slink_\"+ suffix):\n",
    "            scenario.delete_extra_attribute(\"@slink_\"+ suffix)         "
   ]
  },
  {
   "cell_type": "code",
   "execution_count": null,
   "metadata": {
    "collapsed": true,
    "show_input": true
   },
   "outputs": [],
   "source": []
  }
 ],
 "metadata": {
  "kernelspec": {
   "display_name": "Python 2",
   "language": "python",
   "name": "python2"
  },
  "language_info": {
   "codemirror_mode": {
    "name": "ipython",
    "version": 2
   },
   "file_extension": ".py",
   "mimetype": "text/x-python",
   "name": "python",
   "nbconvert_exporter": "python",
   "pygments_lexer": "ipython2",
   "version": "2.7.14"
  }
 },
 "nbformat": 4,
 "nbformat_minor": 0
}
