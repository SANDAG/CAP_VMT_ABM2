{
 "cells": [
  {
   "cell_type": "markdown",
   "metadata": {},
   "source": [
    "#Aggregate Demand , District 1: Outside the Selected region, District 2: Selected Region\n",
    "\n",
    "##Exports 2*2 aggregated matrix\n"
   ]
  },
  {
   "cell_type": "code",
   "execution_count": 22,
   "metadata": {
    "collapsed": false,
    "show_input": true
   },
   "outputs": [],
   "source": [
    "from IPython.display import display\n",
    "import os\n",
    "import numpy as py\n",
    "import pandas as pd\n",
    "my_modeller = inro.modeller.Modeller()\n",
    "emmebank = my_modeller.emmebank\n",
    "desktop = my_modeller.desktop\n",
    "\n",
    "#I/O\n",
    "main_directory = os.path.dirname(os.path.dirname(my_modeller.desktop.project.path)).replace(\"\\\\\",\"/\")\n",
    "import_path = os.path.join(main_directory, \"emme_project\\Database\").replace(\"\\\\\",\"/\")\n",
    "output_path = os.path.join(main_directory, \"output\").replace(\"\\\\\",\"/\")\n",
    "file_name_input = os.path.join(import_path, \"xref_taz13_jur.csv\")\n",
    "file_name_input2 = os.path.join(import_path, \"SL_query.csv\")"
   ]
  },
  {
   "cell_type": "code",
   "execution_count": 23,
   "metadata": {
    "collapsed": false,
    "show_input": true
   },
   "outputs": [],
   "source": [
    "## Read selected demand matrices for a region listed in query and add them to get the aggregated demand of that region\n",
    "## Then transform it to a 2*2 matrix for internal-external trips the selected region. Using cross refrenced table to \n",
    "## identify internal and external TAZs\n",
    "CR_data = pd.read_csv(file_name_input,sep=',')\n",
    "query = pd.read_csv(file_name_input2,sep=',')\n",
    "\n",
    "suffixes = query['Query']\n",
    "periods = [\"EA\", \"AM\", \"MD\", \"PM\", \"EV\"]\n",
    "\n",
    "for s in suffixes :\n",
    "    s = str(s)\n",
    "    agg=[]\n",
    "    matrix_id_list=[]\n",
    "#    for p in periods :\n",
    "    for matrix in emmebank.matrices():\n",
    "        if matrix.type == \"FULL\" and \"Selected demand\" in matrix.description and s in matrix.description :\n",
    "            matrix_id_list.append(matrix.id)\n",
    "\n",
    "    mat=[]\n",
    "    for i in matrix_id_list :\n",
    "        mat.append(emmebank.matrix(id=i).get_numpy_data())\n",
    "    demand = reduce(lambda x,y: x+y,  mat)\n",
    "    demand = pd.DataFrame(demand)\n",
    "    group_I = CR_data[CR_data['Suffix']== s ]['zone_id']\n",
    "    zones = [emmebank.scenario(100).zone_numbers] \n",
    "    group_E = set(zones[0]) - set(group_I)\n",
    "    index_I = group_I-1   \n",
    "    index_E = py.array((map(int,group_E) )) -1\n",
    "    II=demand.iloc[(index_I)].iloc[:,index_I].values.sum()\n",
    "    IE=demand.iloc[index_I].iloc[:,index_E].values.sum()\n",
    "    EI=demand.iloc[index_E].iloc[:,index_I].values.sum()\n",
    "    EE=demand.iloc[index_E].iloc[:,index_E].values.sum()\n",
    "    aggregated_demand = pd.DataFrame ({ 'col1' :[EE,IE] , 'col2' : [EI,II] })\n",
    "\n",
    "    file_name2 = \"SL_Agg_SLDaily_\" + s +\".csv\"\n",
    "    dir_output2 = os.path.join(output_path, file_name2)\n",
    "    aggregated_demand.to_csv(dir_output2, header = False, index= False)\n",
    "    TAZ_list = pd.DataFrame({\"TAZ\" : group_I}) \n",
    "    TAZ_list.to_csv( output_path + \"/xref_taz13_jur_\" + s + \".csv\", header = False, index= False)\n",
    "\n",
    "    "
   ]
  }
 ],
 "metadata": {
  "kernelspec": {
   "display_name": "Python 2",
   "language": "python",
   "name": "python2"
  },
  "language_info": {
   "codemirror_mode": {
    "name": "ipython",
    "version": 2
   },
   "file_extension": ".py",
   "mimetype": "text/x-python",
   "name": "python",
   "nbconvert_exporter": "python",
   "pygments_lexer": "ipython2",
   "version": "2.7.14"
  }
 },
 "nbformat": 4,
 "nbformat_minor": 0
}
